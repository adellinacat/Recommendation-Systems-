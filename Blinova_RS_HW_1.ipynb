{
 "cells": [
  {
   "cell_type": "markdown",
   "id": "218da64c",
   "metadata": {},
   "source": [
    "### Домашнее задание №1\n",
    "\n",
    "#### Задание 1. Реализовать метрики Recall@k и  Money Recall@k\n",
    "\n",
    "*Recall* - доля рекомендованных товаров среди релевантных = Какой % купленных товаров был среди рекомендованных\n",
    "\n",
    "$$\\Large Recall@K(i) = \\frac {\\sum_{j=1}^{K}\\mathbb{1}_{r_{ij}}}{|Rel_i|}$$\n",
    "\n",
    "$\\Large |Rel_i|$ -- количество релевантных товаров для пользователя $i$\n",
    "\n",
    "$$\\Large MoneyRecall@K(i) = \\frac {\\sum_{j=1}^{K}\\mathbb{1}_{r_{ij}}\\cdot Price(j)}{\\sum_{s\\in Rel_i}Price(s)}$$"
   ]
  },
  {
   "cell_type": "code",
   "execution_count": 1,
   "id": "45de2f42",
   "metadata": {},
   "outputs": [],
   "source": [
    "import numpy as np\n",
    "import pandas as pd\n",
    "import math"
   ]
  },
  {
   "cell_type": "code",
   "execution_count": 2,
   "id": "41ecc00f",
   "metadata": {},
   "outputs": [],
   "source": [
    "recommended_list=[143,156,1134,991,27,1543,3345,533,11,43,156,3345,10,15,1134]\n",
    "prices_recommended_list=[400,100,400,90,60,340,70,190,110,240,120,250,90,100,450]\n",
    "\n",
    "bought_list=[156,27,11,43,1134]\n",
    "prices_bought=[100,60,110,240,400]"
   ]
  },
  {
   "cell_type": "code",
   "execution_count": 3,
   "id": "7fa751a4",
   "metadata": {},
   "outputs": [
    {
     "data": {
      "text/html": [
       "<div>\n",
       "<style scoped>\n",
       "    .dataframe tbody tr th:only-of-type {\n",
       "        vertical-align: middle;\n",
       "    }\n",
       "\n",
       "    .dataframe tbody tr th {\n",
       "        vertical-align: top;\n",
       "    }\n",
       "\n",
       "    .dataframe thead th {\n",
       "        text-align: right;\n",
       "    }\n",
       "</style>\n",
       "<table border=\"1\" class=\"dataframe\">\n",
       "  <thead>\n",
       "    <tr style=\"text-align: right;\">\n",
       "      <th></th>\n",
       "      <th>user_id</th>\n",
       "      <th>recommended_list</th>\n",
       "      <th>bought_list</th>\n",
       "      <th>prices_recommended_list</th>\n",
       "      <th>prices_bought</th>\n",
       "    </tr>\n",
       "  </thead>\n",
       "  <tbody>\n",
       "    <tr>\n",
       "      <th>0</th>\n",
       "      <td>u1</td>\n",
       "      <td>[143, 156, 1134, 991, 27]</td>\n",
       "      <td>[156, 27]</td>\n",
       "      <td>[400, 100, 400, 90, 60]</td>\n",
       "      <td>[100, 60]</td>\n",
       "    </tr>\n",
       "    <tr>\n",
       "      <th>1</th>\n",
       "      <td>u2</td>\n",
       "      <td>[1543, 3345, 533, 11, 43]</td>\n",
       "      <td>[11, 43]</td>\n",
       "      <td>[340, 70, 190, 110, 240]</td>\n",
       "      <td>[110, 240]</td>\n",
       "    </tr>\n",
       "    <tr>\n",
       "      <th>2</th>\n",
       "      <td>u3</td>\n",
       "      <td>[156, 3345, 10, 15, 1134]</td>\n",
       "      <td>[1134]</td>\n",
       "      <td>[120, 250, 90, 100, 450]</td>\n",
       "      <td>[400]</td>\n",
       "    </tr>\n",
       "  </tbody>\n",
       "</table>\n",
       "</div>"
      ],
      "text/plain": [
       "  user_id           recommended_list bought_list   prices_recommended_list  \\\n",
       "0      u1  [143, 156, 1134, 991, 27]   [156, 27]   [400, 100, 400, 90, 60]   \n",
       "1      u2  [1543, 3345, 533, 11, 43]    [11, 43]  [340, 70, 190, 110, 240]   \n",
       "2      u3  [156, 3345, 10, 15, 1134]      [1134]  [120, 250, 90, 100, 450]   \n",
       "\n",
       "  prices_bought  \n",
       "0     [100, 60]  \n",
       "1    [110, 240]  \n",
       "2         [400]  "
      ]
     },
     "execution_count": 3,
     "metadata": {},
     "output_type": "execute_result"
    }
   ],
   "source": [
    "data = pd.DataFrame({\"user_id\": [\"u1\",\"u2\",\"u3\"], \n",
    "              \"recommended_list\": [[143, 156, 1134, 991, 27],\n",
    "                                   [1543, 3345, 533, 11, 43],\n",
    "                                   [156, 3345, 10, 15, 1134]\n",
    "                                  ],\n",
    "               \"bought_list\": [[156,27],\n",
    "                               [11,43],\n",
    "                               [1134]\n",
    "                              ],\n",
    "                \"prices_recommended_list\": [[400,100,400,90,60],\n",
    "                                             [340,70,190,110,240],\n",
    "                                             [120,250,90,100,450]\n",
    "                                           ],\n",
    "                 \"prices_bought\": [[100,60],\n",
    "                                   [110,240],\n",
    "                                   [400]]\n",
    "                    })\n",
    "data"
   ]
  },
  {
   "cell_type": "code",
   "execution_count": 4,
   "id": "576b8130",
   "metadata": {},
   "outputs": [],
   "source": [
    "def recall_at_k(recommended_list, bought_list, k=5):\n",
    "       \n",
    "    bought_list = np.array(bought_list)\n",
    "    recommended_list = np.array(recommended_list)[:k]\n",
    "  \n",
    "    flags = np.isin(bought_list, recommended_list)\n",
    "    \n",
    "    return flags.sum() / len(bought_list)\n",
    "\n",
    "\n",
    "def money_recall_at_k(recommended_list, bought_list, prices_recommended, prices_bought, k=5):\n",
    "    bought_list = np.array(bought_list)\n",
    "    recommended_list = np.array(recommended_list)[:k]\n",
    "    prices_recommended = np.array(prices_recommended)[:k]\n",
    "    prices_bought = np.array(prices_bought)\n",
    "    \n",
    "    flags = np.isin(recommended_list, bought_list)\n",
    "    \n",
    "    return np.dot(flags, prices_recommended)/prices_bought.sum()\n",
    "    "
   ]
  },
  {
   "cell_type": "code",
   "execution_count": 5,
   "id": "0e10921d",
   "metadata": {},
   "outputs": [
    {
     "data": {
      "text/plain": [
       "0.6"
      ]
     },
     "execution_count": 5,
     "metadata": {},
     "output_type": "execute_result"
    }
   ],
   "source": [
    "recall_at_k(recommended_list, bought_list, 5) #для топ-5 товаров"
   ]
  },
  {
   "cell_type": "code",
   "execution_count": 6,
   "id": "2c6ee12e",
   "metadata": {},
   "outputs": [
    {
     "data": {
      "text/plain": [
       "0.4"
      ]
     },
     "execution_count": 6,
     "metadata": {},
     "output_type": "execute_result"
    }
   ],
   "source": [
    "recall_at_k(recommended_list, bought_list, 3) # для топ-3 товаров"
   ]
  },
  {
   "cell_type": "code",
   "execution_count": 8,
   "id": "455f9011",
   "metadata": {},
   "outputs": [
    {
     "data": {
      "text/plain": [
       "112.0"
      ]
     },
     "execution_count": 8,
     "metadata": {},
     "output_type": "execute_result"
    }
   ],
   "source": [
    "money_recall_at_k(recommended_list, bought_list, prices_recommended_list, 5) #для топ-5 товаров"
   ]
  },
  {
   "cell_type": "code",
   "execution_count": 9,
   "id": "152b5f28",
   "metadata": {},
   "outputs": [
    {
     "data": {
      "text/plain": [
       "186.67"
      ]
     },
     "execution_count": 9,
     "metadata": {},
     "output_type": "execute_result"
    }
   ],
   "source": [
    "np.round(money_recall_at_k(recommended_list, bought_list, prices_recommended_list, 3), decimals=2) # для топ-3 товаров"
   ]
  },
  {
   "cell_type": "markdown",
   "id": "a98b5f90",
   "metadata": {},
   "source": [
    "#### Задание 2. Реализовать метрику MRR@k\n",
    "\n",
    "Mean Reciprocal Rank\n",
    "\n",
    "- Считаем для первых k рекоммендаций\n",
    "- Найти ранк первого релевантного предсказания $\\Large rank_j$\n",
    "- Посчитать reciprocal rank = $\\Large\\frac{1}{rank_j}$\n",
    "\n",
    "$$\\Large  MRR(i)@k=\\frac {1}{\\min\\limits_{j\\in Rel(i)} rank_j}$$"
   ]
  },
  {
   "cell_type": "code",
   "execution_count": 10,
   "id": "06bc85d9",
   "metadata": {},
   "outputs": [],
   "source": [
    "recommended_list = [143,156,1134,991,27,1543,3345,533,11,43,156,3345,10,15,1134]\n",
    "\n",
    "bought_list = [[156,27], #u1\n",
    "                      [11,43],  #u2\n",
    "                      [1134]]  #u3"
   ]
  },
  {
   "cell_type": "code",
   "execution_count": 11,
   "id": "605bf818",
   "metadata": {},
   "outputs": [],
   "source": [
    "def mrr_at_k(recommended_list, bought_list, k=5):\n",
    "    bought_list = np.array(bought_list)\n",
    "    recommended_list = np.array(recommended_list)[:k]\n",
    "    \n",
    "    amount_user = len(bought_list)\n",
    "    rr = []\n",
    "    for i in np.arange(amount_user):    \n",
    "        relevant_indexes = np.nonzero(np.isin(recommended_list[i], bought_list[i]))[0]\n",
    "        if len(relevant_indexes) != 0:\n",
    "            rr.append(1/(relevant_indexes[0]+1))\n",
    "    \n",
    "    if len(rr) == 0:\n",
    "        return 0\n",
    "    \n",
    "    return sum(rr)/amount_user"
   ]
  },
  {
   "cell_type": "code",
   "execution_count": 12,
   "id": "910840b9",
   "metadata": {},
   "outputs": [
    {
     "name": "stderr",
     "output_type": "stream",
     "text": [
      "C:\\Users\\Инна\\AppData\\Local\\Temp\\ipykernel_2984\\1409222264.py:2: VisibleDeprecationWarning: Creating an ndarray from ragged nested sequences (which is a list-or-tuple of lists-or-tuples-or ndarrays with different lengths or shapes) is deprecated. If you meant to do this, you must specify 'dtype=object' when creating the ndarray.\n",
      "  bought_list = np.array(bought_list)\n"
     ]
    },
    {
     "data": {
      "text/plain": [
       "0.3333"
      ]
     },
     "execution_count": 12,
     "metadata": {},
     "output_type": "execute_result"
    }
   ],
   "source": [
    "np.round(mrr_at_k(recommended_list, bought_list, 5),4) #для топ-5 товаров"
   ]
  },
  {
   "cell_type": "code",
   "execution_count": 13,
   "id": "8b6dec4f",
   "metadata": {},
   "outputs": [
    {
     "name": "stderr",
     "output_type": "stream",
     "text": [
      "C:\\Users\\Инна\\AppData\\Local\\Temp\\ipykernel_2984\\1409222264.py:2: VisibleDeprecationWarning: Creating an ndarray from ragged nested sequences (which is a list-or-tuple of lists-or-tuples-or ndarrays with different lengths or shapes) is deprecated. If you meant to do this, you must specify 'dtype=object' when creating the ndarray.\n",
      "  bought_list = np.array(bought_list)\n"
     ]
    },
    {
     "data": {
      "text/plain": [
       "0.3333"
      ]
     },
     "execution_count": 13,
     "metadata": {},
     "output_type": "execute_result"
    }
   ],
   "source": [
    "np.round(mrr_at_k(recommended_list, bought_list, 3),decimals=4) #для топ-3 товаров"
   ]
  },
  {
   "cell_type": "markdown",
   "id": "3ee34547",
   "metadata": {},
   "source": [
    "результат одинаковый"
   ]
  },
  {
   "cell_type": "markdown",
   "id": "7ca9ec2b",
   "metadata": {},
   "source": [
    "#### Задание 3*. Реализовать метрику nDCG@k\n",
    "Normalized discounted cumulative gain. Эту метрику реализовать будет немного сложнее.\n",
    "\n",
    "$$\\Large DCG@K(i) = \\sum_{j=1}^{K}\\frac{\\mathbb{1}_{r_{ij}}}{\\log_2 (j+1)}$$\n",
    "\n",
    "\n",
    "$\\Large \\mathbb{1}_{r_{ij}}$ -- индикаторная функция показывает что пользователь $i$ провзаимодействовал с продуктом $j$\n",
    "\n",
    "Для подсчета $nDCG$ нам необходимо найти максимально возможный $DCG$ для пользователя $i$  и рекомендаций длины $K$.\n",
    "Максимальный $DCG$ достигается когда мы порекомендовали максимально возможное количество релевантных продуктов и все они в начале списка рекомендаций.\n",
    "\n",
    "$$\\Large IDCG@K(i) = max(DCG@K(i)) = \\sum_{j=1}^{K}\\frac{\\mathbb{1}_{j\\le|Rel_i|}}{\\log_2 (j+1)}$$\n",
    "\n",
    "$$\\Large nDCG@K(i) = \\frac {DCG@K(i)}{IDCG@K(i)}$$\n",
    "\n",
    "$\\Large |Rel_i|$ -- количество релевантных продуктов для пользователя $i$\n"
   ]
  },
  {
   "cell_type": "code",
   "execution_count": 16,
   "id": "7c786a13",
   "metadata": {},
   "outputs": [],
   "source": [
    "recommended_list=[143,156,1134,991,27,1543,3345,533,11,43,156,3345,10,15,1134]\n",
    "prices_recommended_list=[400,100,400,90,60,340,70,190,110,240,120,250,90,100,450]\n",
    "\n",
    "bought_list=[156,27,11,43,1134]\n",
    "prices_bought=[100,60,110,240,400]"
   ]
  },
  {
   "cell_type": "code",
   "execution_count": 17,
   "id": "b721fbc0",
   "metadata": {},
   "outputs": [],
   "source": [
    "def ndcg_at_k(recommended_list, bought_list, k=5):\n",
    "    bought_list = np.array(bought_list)\n",
    "    recommended_list = np.array(recommended_list)[:k]\n",
    "      \n",
    "    flags = np.isin(recommended_list, bought_list)\n",
    "    rank_list = []\n",
    "    for i in np.arange(len(recommended_list)):\n",
    "        if i < 2:\n",
    "            rank_list.append(i+1)\n",
    "        else:\n",
    "            rank_list.append(math.log2(i+1))\n",
    "    if len(recommended_list) == 0:\n",
    "        return 0\n",
    "    dcg = sum(np.divide(flags, rank_list)) / len(recommended_list)\n",
    "\n",
    "    i_dcg = sum(np.divide(1, rank_list)) / len(recommended_list)\n",
    "\n",
    "    return dcg/i_dcg"
   ]
  },
  {
   "cell_type": "code",
   "execution_count": 18,
   "id": "7310b1e3",
   "metadata": {},
   "outputs": [
    {
     "data": {
      "text/plain": [
       "0.51"
      ]
     },
     "execution_count": 18,
     "metadata": {},
     "output_type": "execute_result"
    }
   ],
   "source": [
    "np.round(ndcg_at_k(recommended_list, bought_list, 5),2)"
   ]
  },
  {
   "cell_type": "code",
   "execution_count": null,
   "id": "3065a39b",
   "metadata": {},
   "outputs": [],
   "source": []
  }
 ],
 "metadata": {
  "kernelspec": {
   "display_name": "Python 3 (ipykernel)",
   "language": "python",
   "name": "python3"
  },
  "language_info": {
   "codemirror_mode": {
    "name": "ipython",
    "version": 3
   },
   "file_extension": ".py",
   "mimetype": "text/x-python",
   "name": "python",
   "nbconvert_exporter": "python",
   "pygments_lexer": "ipython3",
   "version": "3.9.12"
  }
 },
 "nbformat": 4,
 "nbformat_minor": 5
}
